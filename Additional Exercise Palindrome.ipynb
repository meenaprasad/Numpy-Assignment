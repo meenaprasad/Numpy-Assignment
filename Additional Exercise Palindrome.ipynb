{
 "cells": [
  {
   "cell_type": "markdown",
   "metadata": {},
   "source": [
    "## 4) Write a python module script that contains ispalindrome() method to calculate the input string as palindrome string or not and save it as palindrome.py"
   ]
  },
  {
   "cell_type": "code",
   "execution_count": 1,
   "metadata": {},
   "outputs": [],
   "source": [
    "import numpy as np"
   ]
  },
  {
   "cell_type": "code",
   "execution_count": 4,
   "metadata": {},
   "outputs": [
    {
     "name": "stdout",
     "output_type": "stream",
     "text": [
      "String madam is palindrome\n",
      "String level is palindrome\n",
      "String hello is not a palindrome\n"
     ]
    }
   ],
   "source": [
    "import palindrome\n",
    "lst=[\"madam\",\"level\", \"hello\"]\n",
    "for i in lst:\n",
    "    result = palindrome.isPalindrome(i)\n",
    "    if result ==1:\n",
    "        print(\"String {} is palindrome\".format(i))\n",
    "    else:\n",
    "        print(\"String {} is not a palindrome\".format(i))"
   ]
  },
  {
   "cell_type": "code",
   "execution_count": null,
   "metadata": {},
   "outputs": [],
   "source": []
  }
 ],
 "metadata": {
  "kernelspec": {
   "display_name": "Python 3",
   "language": "python",
   "name": "python3"
  },
  "language_info": {
   "codemirror_mode": {
    "name": "ipython",
    "version": 3
   },
   "file_extension": ".py",
   "mimetype": "text/x-python",
   "name": "python",
   "nbconvert_exporter": "python",
   "pygments_lexer": "ipython3",
   "version": "3.7.0"
  }
 },
 "nbformat": 4,
 "nbformat_minor": 2
}
