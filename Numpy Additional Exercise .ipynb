{
 "cells": [
  {
   "cell_type": "markdown",
   "metadata": {},
   "source": [
    "## 1) Write a Python program which accepts a list named : randomList = ['a', 0,2]. \n",
    "\n",
    "Use exception handling using try-catch which gives the output as:\n",
    "\n",
    "Output\n",
    "1) If the List element is a alphabet or string, the output will be\n",
    "\n",
    "The entry is a\n",
    "Oops! <class 'ValueError'> occured.\n",
    "Next entry.\n",
    "\n",
    "2) If the List element is “0”,the output will be\n",
    "\n",
    "The entry is 0\n",
    "Oops! <class 'ZeroDivisionError'> occured.\n",
    "\n",
    "Next entry.\n",
    "\n",
    "3) If the List element is and integer except 0,then output will be\n",
    "\n",
    "The entry is 2\n",
    "The reciprocal of 2 is 0.5 // reciprocal of an integer "
   ]
  },
  {
   "cell_type": "code",
   "execution_count": 5,
   "metadata": {},
   "outputs": [
    {
     "name": "stdout",
     "output_type": "stream",
     "text": [
      "The item is a\n",
      "Oops! <class 'ValueError'> occured.\n",
      "Next entry.\n",
      "\n",
      "The item is 0\n",
      "Oops! <class 'ZeroDivisionError'> occured.\n",
      "Next entry.\n",
      "\n",
      "The item is 2\n",
      "The reciprocal of 2 is 0.5\n"
     ]
    }
   ],
   "source": [
    "import numpy as np\n",
    "import sys\n",
    "\n",
    "randomList = ['a', 0, 2]\n",
    "\n",
    "for item in randomList:\n",
    "    try:\n",
    "        print(\"The item is\", item)\n",
    "        rec = 1/int(item)\n",
    "        \n",
    "    except:\n",
    "        print(\"Oops!\",sys.exc_info()[0],\"occured.\")\n",
    "        print(\"Next entry.\")\n",
    "        print()\n",
    "        \n",
    "print(\"The reciprocal of\",item,\"is\",rec)"
   ]
  },
  {
   "cell_type": "markdown",
   "metadata": {},
   "source": [
    "## 2) Array out of Bound Exception\n",
    "Write a Python program to give exception “Array Out of Bound” if the\n",
    "user wants to access the elements beyond the list size (use try and except) "
   ]
  },
  {
   "cell_type": "code",
   "execution_count": 22,
   "metadata": {},
   "outputs": [
    {
     "name": "stdout",
     "output_type": "stream",
     "text": [
      "apple\n",
      "orange\n",
      "papaya\n",
      "Array Out of Bound\n"
     ]
    }
   ],
   "source": [
    "lst=['apple','orange','papaya']\n",
    "\n",
    "for i in range (0, len(lst)+1):\n",
    "    try:\n",
    "        print (lst[i])\n",
    "    except Exception:\n",
    "        print(\"Array Out of Bound\")\n"
   ]
  },
  {
   "cell_type": "code",
   "execution_count": null,
   "metadata": {},
   "outputs": [],
   "source": []
  }
 ],
 "metadata": {
  "kernelspec": {
   "display_name": "Python 3",
   "language": "python",
   "name": "python3"
  },
  "language_info": {
   "codemirror_mode": {
    "name": "ipython",
    "version": 3
   },
   "file_extension": ".py",
   "mimetype": "text/x-python",
   "name": "python",
   "nbconvert_exporter": "python",
   "pygments_lexer": "ipython3",
   "version": "3.7.0"
  }
 },
 "nbformat": 4,
 "nbformat_minor": 2
}
